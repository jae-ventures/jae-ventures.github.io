{
 "cells": [
  {
   "cell_type": "code",
   "execution_count": 2,
   "metadata": {},
   "outputs": [
    {
     "name": "stdout",
     "output_type": "stream",
     "text": [
      "Success!\n"
     ]
    }
   ],
   "source": [
    "import cv2 as cv\n",
    "import os\n",
    "\n",
    "img_path = 'img'\n",
    "img_name = 'prof_pic_color.jpg'\n",
    "combined_path = os.path.join(img_path, img_name)\n",
    "img = cv.imread(combined_path)\n",
    "if img is not None:\n",
    "    print('Success!')\n",
    "    img_gray = cv.cvtColor(img, cv.COLOR_BGR2GRAY)\n",
    "    new_path = os.path.join(img_path, 'me_in_gray.jpg')\n",
    "    cv.imwrite(new_path, img_gray)\n",
    "else:\n",
    "    print('Failure')"
   ]
  }
 ],
 "metadata": {
  "kernelspec": {
   "display_name": "base",
   "language": "python",
   "name": "python3"
  },
  "language_info": {
   "codemirror_mode": {
    "name": "ipython",
    "version": 3
   },
   "file_extension": ".py",
   "mimetype": "text/x-python",
   "name": "python",
   "nbconvert_exporter": "python",
   "pygments_lexer": "ipython3",
   "version": "3.12.3"
  }
 },
 "nbformat": 4,
 "nbformat_minor": 2
}
